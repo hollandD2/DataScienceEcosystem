{
 "cells": [
  {
   "cell_type": "markdown",
   "id": "12eb990f-63a1-4b69-8b97-956fad42b1e6",
   "metadata": {},
   "source": [
    "# Data Science Tools and Ecosystem"
   ]
  },
  {
   "cell_type": "markdown",
   "id": "dd32f8cd-243e-4019-9d55-4863acff8e82",
   "metadata": {},
   "source": [
    "In this notebook, Data Science Tools and Ecosystem are summarized. "
   ]
  },
  {
   "cell_type": "markdown",
   "id": "bbf576a1-3086-42bb-9654-d67c6f72326f",
   "metadata": {},
   "source": [
    "Objectives:\n",
    "\n",
    "1. Find the most popular Data Science tools, libraries, & languages\n",
    "2. Create an ordered list\n",
    "3. Use the arithmetic operations\n",
    "4. Take screen shots of cells"
   ]
  },
  {
   "cell_type": "markdown",
   "id": "4985cd6d-7886-4f7b-8952-8ffcffb1d78d",
   "metadata": {},
   "source": [
    "Some of the popular languages that Data Scientists use are:\n",
    "\n",
    "1. Python\n",
    "2. SQL\n",
    "3. R\n",
    "4. JavaScript\n",
    "5. Julia\n"
   ]
  },
  {
   "cell_type": "markdown",
   "id": "891fbc3f-6783-48d0-8123-7c0f77527d58",
   "metadata": {},
   "source": [
    "Some of the commonly used libraries used by Data Scientists include:\n",
    "1. scikit-learn\n",
    "2. TensorFlow\n",
    "3. PyTorch\n",
    "4. OpenCV\n",
    "5. NetworkX"
   ]
  },
  {
   "cell_type": "markdown",
   "id": "1210a66d-40d5-43cb-ab19-9655bb48a68a",
   "metadata": {},
   "source": [
    "| Data Science Tools |\n",
    "| --- |\n",
    "| Matplotlib | \n",
    "| Pandas | \n",
    "| NumbPy | \n"
   ]
  },
  {
   "cell_type": "markdown",
   "id": "2cb84c97-cb38-46b5-bb55-085f41de6fd8",
   "metadata": {},
   "source": [
    "### Below are a few examples of evaluating arithmetic expressions in Python"
   ]
  },
  {
   "cell_type": "code",
   "execution_count": 2,
   "id": "0464e1a0-a5b0-4aa9-a39f-8e90e1f99191",
   "metadata": {},
   "outputs": [
    {
     "data": {
      "text/plain": [
       "17"
      ]
     },
     "execution_count": 2,
     "metadata": {},
     "output_type": "execute_result"
    }
   ],
   "source": [
    "#This a simple arithmetic expression to mutiply then add integers\n",
    "\n",
    "(3*4)+5"
   ]
  },
  {
   "cell_type": "code",
   "execution_count": 4,
   "id": "9ad5b2e4-a85e-43c1-b3f6-8b06ca7fd8e2",
   "metadata": {},
   "outputs": [
    {
     "name": "stdout",
     "output_type": "stream",
     "text": [
      "3\n"
     ]
    }
   ],
   "source": [
    "#This will convert 200 minutes to hours by diving by 60\n",
    "minutes = 200\n",
    "hours = minutes / 60\n",
    "print(int(hours))"
   ]
  },
  {
   "cell_type": "markdown",
   "id": "37244a84-72cb-404a-91df-bb9ad7ca8a88",
   "metadata": {},
   "source": [
    "## Author\n",
    "Dottie Holland\n"
   ]
  },
  {
   "cell_type": "code",
   "execution_count": null,
   "id": "f787dd04-092c-4407-aaf0-e4d565615e78",
   "metadata": {},
   "outputs": [],
   "source": []
  }
 ],
 "metadata": {
  "kernelspec": {
   "display_name": "Python",
   "language": "python",
   "name": "conda-env-python-py"
  },
  "language_info": {
   "codemirror_mode": {
    "name": "ipython",
    "version": 3
   },
   "file_extension": ".py",
   "mimetype": "text/x-python",
   "name": "python",
   "nbconvert_exporter": "python",
   "pygments_lexer": "ipython3",
   "version": "3.7.12"
  }
 },
 "nbformat": 4,
 "nbformat_minor": 5
}
