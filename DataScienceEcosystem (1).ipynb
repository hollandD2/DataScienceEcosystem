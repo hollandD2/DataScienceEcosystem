{
 "cells": [
  {
   "cell_type": "markdown",
   "id": "12eb990f-63a1-4b69-8b97-956fad42b1e6",
   "metadata": {},
   "source": [
    "# Data Science Tools and Ecosystem"
   ]
  },
  {
   "cell_type": "markdown",
   "id": "dd32f8cd-243e-4019-9d55-4863acff8e82",
   "metadata": {},
   "source": [
    "In this notebook, Data Science Tools and Ecosystem are summarized. "
   ]
  },
  {
   "cell_type": "markdown",
   "id": "e34d3ab4-6793-4d8c-86cb-4e6b98db61e1",
   "metadata": {},
   "source": [
    "**Objectives:**\n",
    "\n",
    "- Find and list the most popular Data Science tools, libraries, & languages\n",
    "- Create an ordered list\n",
    "- Use the arithmetic operations\n",
    "- Take screen shots of cells\n",
    "- Upload to GitHub "
   ]
  },
  {
   "cell_type": "markdown",
   "id": "f407758b-fac4-475f-83a8-25b8ebf803c9",
   "metadata": {
    "tags": []
   },
   "source": [
    "## Author\n",
    "Dottie Holland"
   ]
  },
  {
   "cell_type": "markdown",
   "id": "b28a57d7-5dcd-4daa-bff1-5e2ee11caba4",
   "metadata": {},
   "source": [
    "Some of the popular languages that Data Scientists use are:\n",
    "\n",
    "1. Python\n",
    "2. SQL\n",
    "3. R\n",
    "4. JavaScript\n",
    "5. Julia\n"
   ]
  },
  {
   "cell_type": "markdown",
   "id": "121333a4-83e3-41ef-9f0b-4224b59909bf",
   "metadata": {},
   "source": [
    "Some of the commonly used libraries used by Data Scientists include:\n",
    "1. scikit-learn\n",
    "2. TensorFlow\n",
    "3. PyTorch\n",
    "4. OpenCV\n",
    "5. NetworkX"
   ]
  },
  {
   "cell_type": "markdown",
   "id": "acd69aef-5181-4374-b5b0-d30e83f90e3f",
   "metadata": {},
   "source": [
    "| Data Science Tools |\n",
    "| --- |\n",
    "| Matplotlib | \n",
    "| Pandas | \n",
    "| NumbPy | "
   ]
  },
  {
   "cell_type": "markdown",
   "id": "f8cce112-ca61-4523-bb7c-89f0607a3156",
   "metadata": {},
   "source": [
    "### Below are a few examples of evaluating arithmetic expressions in Python"
   ]
  },
  {
   "cell_type": "code",
   "execution_count": 6,
   "id": "b0324d15-fe2b-4e6c-bb93-5f37b9f4f89c",
   "metadata": {},
   "outputs": [
    {
     "data": {
      "text/plain": [
       "17"
      ]
     },
     "execution_count": 6,
     "metadata": {},
     "output_type": "execute_result"
    }
   ],
   "source": [
    "#This a simple arithmetic expression to mutiply then add integers\n",
    "\n",
    "(3*4)+5"
   ]
  },
  {
   "cell_type": "code",
   "execution_count": 7,
   "id": "ff7523a8-88cf-4503-b692-da924fe6b3d2",
   "metadata": {},
   "outputs": [
    {
     "name": "stdout",
     "output_type": "stream",
     "text": [
      "3\n"
     ]
    }
   ],
   "source": [
    "#This will convert 200 minutes to hours by diving by 60\n",
    "minutes = 200\n",
    "hours = minutes / 60\n",
    "print(int(hours))"
   ]
  },
  {
   "cell_type": "code",
   "execution_count": null,
   "id": "0a246254-7155-47f0-9c99-f6c635e3dad6",
   "metadata": {},
   "outputs": [],
   "source": []
  }
 ],
 "metadata": {
  "kernelspec": {
   "display_name": "Python",
   "language": "python",
   "name": "conda-env-python-py"
  },
  "language_info": {
   "codemirror_mode": {
    "name": "ipython",
    "version": 3
   },
   "file_extension": ".py",
   "mimetype": "text/x-python",
   "name": "python",
   "nbconvert_exporter": "python",
   "pygments_lexer": "ipython3",
   "version": "3.7.12"
  }
 },
 "nbformat": 4,
 "nbformat_minor": 5
}
